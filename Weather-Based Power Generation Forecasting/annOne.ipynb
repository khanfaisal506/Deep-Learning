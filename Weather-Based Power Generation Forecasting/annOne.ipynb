{
 "cells": [
  {
   "cell_type": "code",
   "execution_count": 54,
   "id": "2ebe0197",
   "metadata": {},
   "outputs": [],
   "source": [
    "import pandas as pd"
   ]
  },
  {
   "cell_type": "code",
   "execution_count": 55,
   "id": "49783f1b",
   "metadata": {},
   "outputs": [],
   "source": [
    "df = pd.read_excel('data.xlsx')"
   ]
  },
  {
   "cell_type": "code",
   "execution_count": 56,
   "id": "763d35cd",
   "metadata": {},
   "outputs": [
    {
     "data": {
      "text/html": [
       "<div>\n",
       "<style scoped>\n",
       "    .dataframe tbody tr th:only-of-type {\n",
       "        vertical-align: middle;\n",
       "    }\n",
       "\n",
       "    .dataframe tbody tr th {\n",
       "        vertical-align: top;\n",
       "    }\n",
       "\n",
       "    .dataframe thead th {\n",
       "        text-align: right;\n",
       "    }\n",
       "</style>\n",
       "<table border=\"1\" class=\"dataframe\">\n",
       "  <thead>\n",
       "    <tr style=\"text-align: right;\">\n",
       "      <th></th>\n",
       "      <th>AT</th>\n",
       "      <th>V</th>\n",
       "      <th>AP</th>\n",
       "      <th>RH</th>\n",
       "      <th>PE</th>\n",
       "    </tr>\n",
       "  </thead>\n",
       "  <tbody>\n",
       "    <tr>\n",
       "      <th>0</th>\n",
       "      <td>14.96</td>\n",
       "      <td>41.76</td>\n",
       "      <td>1024.07</td>\n",
       "      <td>73.17</td>\n",
       "      <td>463.26</td>\n",
       "    </tr>\n",
       "    <tr>\n",
       "      <th>1</th>\n",
       "      <td>25.18</td>\n",
       "      <td>62.96</td>\n",
       "      <td>1020.04</td>\n",
       "      <td>59.08</td>\n",
       "      <td>444.37</td>\n",
       "    </tr>\n",
       "    <tr>\n",
       "      <th>2</th>\n",
       "      <td>5.11</td>\n",
       "      <td>39.40</td>\n",
       "      <td>1012.16</td>\n",
       "      <td>92.14</td>\n",
       "      <td>488.56</td>\n",
       "    </tr>\n",
       "    <tr>\n",
       "      <th>3</th>\n",
       "      <td>20.86</td>\n",
       "      <td>57.32</td>\n",
       "      <td>1010.24</td>\n",
       "      <td>76.64</td>\n",
       "      <td>446.48</td>\n",
       "    </tr>\n",
       "    <tr>\n",
       "      <th>4</th>\n",
       "      <td>10.82</td>\n",
       "      <td>37.50</td>\n",
       "      <td>1009.23</td>\n",
       "      <td>96.62</td>\n",
       "      <td>473.90</td>\n",
       "    </tr>\n",
       "    <tr>\n",
       "      <th>...</th>\n",
       "      <td>...</td>\n",
       "      <td>...</td>\n",
       "      <td>...</td>\n",
       "      <td>...</td>\n",
       "      <td>...</td>\n",
       "    </tr>\n",
       "    <tr>\n",
       "      <th>9563</th>\n",
       "      <td>16.65</td>\n",
       "      <td>49.69</td>\n",
       "      <td>1014.01</td>\n",
       "      <td>91.00</td>\n",
       "      <td>460.03</td>\n",
       "    </tr>\n",
       "    <tr>\n",
       "      <th>9564</th>\n",
       "      <td>13.19</td>\n",
       "      <td>39.18</td>\n",
       "      <td>1023.67</td>\n",
       "      <td>66.78</td>\n",
       "      <td>469.62</td>\n",
       "    </tr>\n",
       "    <tr>\n",
       "      <th>9565</th>\n",
       "      <td>31.32</td>\n",
       "      <td>74.33</td>\n",
       "      <td>1012.92</td>\n",
       "      <td>36.48</td>\n",
       "      <td>429.57</td>\n",
       "    </tr>\n",
       "    <tr>\n",
       "      <th>9566</th>\n",
       "      <td>24.48</td>\n",
       "      <td>69.45</td>\n",
       "      <td>1013.86</td>\n",
       "      <td>62.39</td>\n",
       "      <td>435.74</td>\n",
       "    </tr>\n",
       "    <tr>\n",
       "      <th>9567</th>\n",
       "      <td>21.60</td>\n",
       "      <td>62.52</td>\n",
       "      <td>1017.23</td>\n",
       "      <td>67.87</td>\n",
       "      <td>453.28</td>\n",
       "    </tr>\n",
       "  </tbody>\n",
       "</table>\n",
       "<p>9568 rows × 5 columns</p>\n",
       "</div>"
      ],
      "text/plain": [
       "         AT      V       AP     RH      PE\n",
       "0     14.96  41.76  1024.07  73.17  463.26\n",
       "1     25.18  62.96  1020.04  59.08  444.37\n",
       "2      5.11  39.40  1012.16  92.14  488.56\n",
       "3     20.86  57.32  1010.24  76.64  446.48\n",
       "4     10.82  37.50  1009.23  96.62  473.90\n",
       "...     ...    ...      ...    ...     ...\n",
       "9563  16.65  49.69  1014.01  91.00  460.03\n",
       "9564  13.19  39.18  1023.67  66.78  469.62\n",
       "9565  31.32  74.33  1012.92  36.48  429.57\n",
       "9566  24.48  69.45  1013.86  62.39  435.74\n",
       "9567  21.60  62.52  1017.23  67.87  453.28\n",
       "\n",
       "[9568 rows x 5 columns]"
      ]
     },
     "execution_count": 56,
     "metadata": {},
     "output_type": "execute_result"
    }
   ],
   "source": [
    "df"
   ]
  },
  {
   "cell_type": "code",
   "execution_count": 57,
   "id": "09c65347",
   "metadata": {},
   "outputs": [
    {
     "name": "stdout",
     "output_type": "stream",
     "text": [
      "<class 'pandas.core.frame.DataFrame'>\n",
      "RangeIndex: 9568 entries, 0 to 9567\n",
      "Data columns (total 5 columns):\n",
      " #   Column  Non-Null Count  Dtype  \n",
      "---  ------  --------------  -----  \n",
      " 0   AT      9568 non-null   float64\n",
      " 1   V       9568 non-null   float64\n",
      " 2   AP      9568 non-null   float64\n",
      " 3   RH      9568 non-null   float64\n",
      " 4   PE      9568 non-null   float64\n",
      "dtypes: float64(5)\n",
      "memory usage: 373.9 KB\n"
     ]
    }
   ],
   "source": [
    "df.info()"
   ]
  },
  {
   "cell_type": "code",
   "execution_count": 58,
   "id": "bd87c80f",
   "metadata": {},
   "outputs": [
    {
     "data": {
      "text/plain": [
       "AT    0\n",
       "V     0\n",
       "AP    0\n",
       "RH    0\n",
       "PE    0\n",
       "dtype: int64"
      ]
     },
     "execution_count": 58,
     "metadata": {},
     "output_type": "execute_result"
    }
   ],
   "source": [
    "df.isnull().sum()"
   ]
  },
  {
   "cell_type": "code",
   "execution_count": 59,
   "id": "1baf7f73",
   "metadata": {},
   "outputs": [],
   "source": [
    "x = df[['AT','V','AP','RH']]\n",
    "y = df['PE']"
   ]
  },
  {
   "cell_type": "code",
   "execution_count": 60,
   "id": "819ee5c5",
   "metadata": {},
   "outputs": [],
   "source": [
    "from sklearn.preprocessing import MinMaxScaler"
   ]
  },
  {
   "cell_type": "code",
   "execution_count": 61,
   "id": "4f0a7f7b",
   "metadata": {},
   "outputs": [],
   "source": [
    "scaler = MinMaxScaler()"
   ]
  },
  {
   "cell_type": "code",
   "execution_count": 62,
   "id": "76446def",
   "metadata": {},
   "outputs": [],
   "source": [
    "X_scaled = scaler.fit_transform(x)\n"
   ]
  },
  {
   "cell_type": "code",
   "execution_count": 63,
   "id": "38a2deb5",
   "metadata": {},
   "outputs": [
    {
     "data": {
      "text/plain": [
       "array([[0.37252125, 0.29181495, 0.77159119, 0.63820375],\n",
       "       [0.66203966, 0.66903915, 0.6718634 , 0.44932976],\n",
       "       [0.09348442, 0.24982206, 0.47686216, 0.8924933 ],\n",
       "       ...,\n",
       "       [0.83597734, 0.87135231, 0.49566939, 0.1463807 ],\n",
       "       [0.64220963, 0.78451957, 0.51893096, 0.49369973],\n",
       "       [0.56062323, 0.66120996, 0.60232616, 0.56715818]], shape=(9568, 4))"
      ]
     },
     "execution_count": 63,
     "metadata": {},
     "output_type": "execute_result"
    }
   ],
   "source": [
    "X_scaled"
   ]
  },
  {
   "cell_type": "code",
   "execution_count": 64,
   "id": "35a5e701",
   "metadata": {},
   "outputs": [],
   "source": [
    "from sklearn.model_selection import train_test_split"
   ]
  },
  {
   "cell_type": "code",
   "execution_count": 65,
   "id": "a7e61e09",
   "metadata": {},
   "outputs": [],
   "source": [
    "x_train,x_test,y_train,y_test = train_test_split(X_scaled,y,test_size=0.2,random_state=42)"
   ]
  },
  {
   "cell_type": "code",
   "execution_count": 66,
   "id": "8db02938",
   "metadata": {},
   "outputs": [],
   "source": [
    "import torch\n",
    "import torch.nn as nn"
   ]
  },
  {
   "cell_type": "code",
   "execution_count": 67,
   "id": "2cd91a84",
   "metadata": {},
   "outputs": [
    {
     "name": "stdout",
     "output_type": "stream",
     "text": [
      "Weather(\n",
      "  (net): Sequential(\n",
      "    (0): Linear(in_features=4, out_features=32, bias=True)\n",
      "    (1): ReLU()\n",
      "    (2): Linear(in_features=32, out_features=16, bias=True)\n",
      "    (3): ReLU()\n",
      "    (4): Linear(in_features=16, out_features=8, bias=True)\n",
      "    (5): ReLU()\n",
      "    (6): Linear(in_features=8, out_features=1, bias=True)\n",
      "  )\n",
      ")\n"
     ]
    }
   ],
   "source": [
    "class Weather(nn.Module):\n",
    "    def __init__(self,input_dim):\n",
    "        super(Weather,self).__init__()\n",
    "        self.net = nn.Sequential(\n",
    "            nn.Linear(input_dim,32),\n",
    "            nn.ReLU(),\n",
    "            nn.Linear(32,16),\n",
    "            nn.ReLU(),\n",
    "            nn.Linear(16,8),\n",
    "            nn.ReLU(),\n",
    "            nn.Linear(8,1),\n",
    "        )\n",
    "    def forward(self,x):\n",
    "        return self.net(x)\n",
    "    \n",
    "input_dim = x_train.shape[1]\n",
    "model = Weather(input_dim)\n",
    "\n",
    "print(model)\n"
   ]
  },
  {
   "cell_type": "code",
   "execution_count": 68,
   "id": "a7fbd358",
   "metadata": {},
   "outputs": [],
   "source": [
    "import torch\n",
    "import torch.nn as nn\n",
    "import torch.optim as optim\n",
    "import numpy as np\n",
    "\n",
    "# 5. Convert Data to PyTorch Tensors\n",
    "# x_train is a NumPy array, y_train is a pandas Series, so use .values on y_train\n",
    "x_train_tensor = torch.tensor(x_train, dtype=torch.float32)\n",
    "y_train_tensor = torch.tensor(y_train.values, dtype=torch.float32).view(-1, 1)"
   ]
  },
  {
   "cell_type": "code",
   "execution_count": 69,
   "id": "a5e5b329",
   "metadata": {},
   "outputs": [],
   "source": [
    "# 6. Define Loss Function and Optimizer\n",
    "criterion = nn.MSELoss()\n",
    "optimizer = optim.Adam(model.parameters(), lr=0.001)"
   ]
  },
  {
   "cell_type": "code",
   "execution_count": 70,
   "id": "94486eb6",
   "metadata": {},
   "outputs": [
    {
     "name": "stdout",
     "output_type": "stream",
     "text": [
      "\n",
      "Starting Training...\n",
      "Epoch [100/10000], Loss: 204424.3125\n",
      "Epoch [200/10000], Loss: 161497.5156\n",
      "Epoch [300/10000], Loss: 30950.6211\n",
      "Epoch [400/10000], Loss: 4308.6777\n",
      "Epoch [500/10000], Loss: 3992.5537\n",
      "Epoch [600/10000], Loss: 3677.8040\n",
      "Epoch [700/10000], Loss: 3372.6038\n",
      "Epoch [800/10000], Loss: 3083.1277\n",
      "Epoch [900/10000], Loss: 2813.6279\n",
      "Epoch [1000/10000], Loss: 2566.7837\n",
      "Epoch [1100/10000], Loss: 2343.9771\n",
      "Epoch [1200/10000], Loss: 2145.4993\n",
      "Epoch [1300/10000], Loss: 1970.7303\n",
      "Epoch [1400/10000], Loss: 1818.3057\n",
      "Epoch [1500/10000], Loss: 1686.2717\n",
      "Epoch [1600/10000], Loss: 1572.2643\n",
      "Epoch [1700/10000], Loss: 1473.6862\n",
      "Epoch [1800/10000], Loss: 1387.8859\n",
      "Epoch [1900/10000], Loss: 1312.3217\n",
      "Epoch [2000/10000], Loss: 1244.6946\n",
      "Epoch [2100/10000], Loss: 1183.0397\n",
      "Epoch [2200/10000], Loss: 1125.7683\n",
      "Epoch [2300/10000], Loss: 1071.6667\n",
      "Epoch [2400/10000], Loss: 1019.8584\n",
      "Epoch [2500/10000], Loss: 969.7488\n",
      "Epoch [2600/10000], Loss: 920.9612\n",
      "Epoch [2700/10000], Loss: 873.2755\n",
      "Epoch [2800/10000], Loss: 826.5771\n",
      "Epoch [2900/10000], Loss: 780.8180\n",
      "Epoch [3000/10000], Loss: 735.9918\n",
      "Epoch [3100/10000], Loss: 692.1151\n",
      "Epoch [3200/10000], Loss: 649.2179\n",
      "Epoch [3300/10000], Loss: 607.3403\n",
      "Epoch [3400/10000], Loss: 566.5286\n",
      "Epoch [3500/10000], Loss: 526.8378\n",
      "Epoch [3600/10000], Loss: 488.3289\n",
      "Epoch [3700/10000], Loss: 451.0707\n",
      "Epoch [3800/10000], Loss: 415.1385\n",
      "Epoch [3900/10000], Loss: 380.6125\n",
      "Epoch [4000/10000], Loss: 347.5743\n",
      "Epoch [4100/10000], Loss: 316.1032\n",
      "Epoch [4200/10000], Loss: 286.2720\n",
      "Epoch [4300/10000], Loss: 258.1416\n",
      "Epoch [4400/10000], Loss: 231.7571\n",
      "Epoch [4500/10000], Loss: 207.1447\n",
      "Epoch [4600/10000], Loss: 184.3105\n",
      "Epoch [4700/10000], Loss: 163.2417\n",
      "Epoch [4800/10000], Loss: 143.9096\n",
      "Epoch [4900/10000], Loss: 126.2740\n",
      "Epoch [5000/10000], Loss: 110.2877\n",
      "Epoch [5100/10000], Loss: 95.9012\n",
      "Epoch [5200/10000], Loss: 83.0638\n",
      "Epoch [5300/10000], Loss: 71.7240\n",
      "Epoch [5400/10000], Loss: 61.8271\n",
      "Epoch [5500/10000], Loss: 53.3107\n",
      "Epoch [5600/10000], Loss: 46.1014\n",
      "Epoch [5700/10000], Loss: 40.1110\n",
      "Epoch [5800/10000], Loss: 35.2354\n",
      "Epoch [5900/10000], Loss: 31.3564\n",
      "Epoch [6000/10000], Loss: 28.3451\n",
      "Epoch [6100/10000], Loss: 26.0679\n",
      "Epoch [6200/10000], Loss: 24.3928\n",
      "Epoch [6300/10000], Loss: 23.1956\n",
      "Epoch [6400/10000], Loss: 22.3652\n",
      "Epoch [6500/10000], Loss: 21.8070\n",
      "Epoch [6600/10000], Loss: 21.4434\n",
      "Epoch [6700/10000], Loss: 21.2142\n",
      "Epoch [6800/10000], Loss: 21.0745\n",
      "Epoch [6900/10000], Loss: 20.9922\n",
      "Epoch [7000/10000], Loss: 20.9455\n",
      "Epoch [7100/10000], Loss: 20.9199\n",
      "Epoch [7200/10000], Loss: 20.9064\n",
      "Epoch [7300/10000], Loss: 20.8995\n",
      "Epoch [7400/10000], Loss: 20.8962\n",
      "Epoch [7500/10000], Loss: 20.8946\n",
      "Epoch [7600/10000], Loss: 20.8939\n",
      "Epoch [7700/10000], Loss: 20.8936\n",
      "Epoch [7800/10000], Loss: 20.8935\n",
      "Epoch [7900/10000], Loss: 20.8934\n",
      "Epoch [8000/10000], Loss: 20.8934\n",
      "Epoch [8100/10000], Loss: 20.8934\n",
      "Epoch [8200/10000], Loss: 20.8934\n",
      "Epoch [8300/10000], Loss: 20.8934\n",
      "Epoch [8400/10000], Loss: 20.8934\n",
      "Epoch [8500/10000], Loss: 20.8934\n",
      "Epoch [8600/10000], Loss: 20.8934\n",
      "Epoch [8700/10000], Loss: 20.8934\n",
      "Epoch [8800/10000], Loss: 20.8934\n",
      "Epoch [8900/10000], Loss: 20.8934\n",
      "Epoch [9000/10000], Loss: 20.8934\n",
      "Epoch [9100/10000], Loss: 20.8934\n",
      "Epoch [9200/10000], Loss: 20.8934\n",
      "Epoch [9300/10000], Loss: 20.8934\n",
      "Epoch [9400/10000], Loss: 20.8934\n",
      "Epoch [9500/10000], Loss: 20.8934\n",
      "Epoch [9600/10000], Loss: 20.8934\n",
      "Epoch [9700/10000], Loss: 20.8934\n",
      "Epoch [9800/10000], Loss: 20.8934\n",
      "Epoch [9900/10000], Loss: 20.8934\n",
      "Epoch [10000/10000], Loss: 20.8934\n",
      "Training finished!\n"
     ]
    }
   ],
   "source": [
    "import matplotlib.pyplot as plt\n",
    "\n",
    "# ... (all your previous code for setup) ...\n",
    "\n",
    "# 7. Create the Training Loop\n",
    "print(\"\\nStarting Training...\")\n",
    "epochs = 10000\n",
    "losses = [] # Create an empty list to store losses\n",
    "\n",
    "for epoch in range(epochs):\n",
    "    y_pred = model(x_train_tensor)\n",
    "    loss = criterion(y_pred, y_train_tensor)\n",
    "    \n",
    "    # Store the loss value\n",
    "    losses.append(loss.item())\n",
    "\n",
    "    optimizer.zero_grad()\n",
    "    loss.backward()\n",
    "    optimizer.step()\n",
    "\n",
    "    if (epoch + 1) % 100 == 0:\n",
    "        print(f'Epoch [{epoch+1}/{epochs}], Loss: {loss.item():.4f}')\n",
    "\n",
    "print(\"Training finished!\")"
   ]
  },
  {
   "cell_type": "code",
   "execution_count": 71,
   "id": "d54a28e4",
   "metadata": {},
   "outputs": [
    {
     "name": "stdout",
     "output_type": "stream",
     "text": [
      "\n",
      "Evaluation on Test Data:\n",
      "Test Loss (MSE): 20.2737\n",
      "Root Mean Squared Error (RMSE): 4.5026\n"
     ]
    }
   ],
   "source": [
    "# --- 8. Evaluate the Model on Test Data ---\n",
    "\n",
    "# First, prepare the test data by converting it to PyTorch tensors\n",
    "x_test_tensor = torch.tensor(x_test, dtype=torch.float32)\n",
    "y_test_tensor = torch.tensor(y_test.values, dtype=torch.float32).view(-1, 1)\n",
    "\n",
    "# Set the model to evaluation mode\n",
    "model.eval()\n",
    "\n",
    "# Use torch.no_grad() to stop PyTorch from calculating gradients\n",
    "with torch.no_grad():\n",
    "    # Make predictions on the test data\n",
    "    y_pred_test = model(x_test_tensor)\n",
    "\n",
    "    # Calculate the loss on the test data\n",
    "    test_loss = criterion(y_pred_test, y_test_tensor)\n",
    "    \n",
    "    # For regression, Root Mean Squared Error (RMSE) is often more interpretable\n",
    "    # It's the square root of the MSE loss\n",
    "    rmse = torch.sqrt(test_loss)\n",
    "\n",
    "print(f\"\\nEvaluation on Test Data:\")\n",
    "print(f\"Test Loss (MSE): {test_loss.item():.4f}\")\n",
    "print(f\"Root Mean Squared Error (RMSE): {rmse.item():.4f}\")"
   ]
  },
  {
   "cell_type": "code",
   "execution_count": 72,
   "id": "06a6ce8b",
   "metadata": {},
   "outputs": [
    {
     "name": "stdout",
     "output_type": "stream",
     "text": [
      "\n",
      "Metrics calculated with scikit-learn:\n",
      "R-squared (R2 Score): 0.9301\n",
      "Root Mean Squared Error (RMSE): 4.5026\n"
     ]
    }
   ],
   "source": [
    "# Import the required functions from scikit-learn\n",
    "from sklearn.metrics import r2_score, mean_squared_error\n",
    "import numpy as np\n",
    "\n",
    "# --- Prerequisite: Your model has been evaluated ---\n",
    "# The following variables should already exist from the previous evaluation step:\n",
    "# y_test: Your original test data (pandas Series)\n",
    "# y_pred_test: Your model's predictions (PyTorch tensor)\n",
    "\n",
    "# --- Convert predictions tensor to a NumPy array ---\n",
    "# Scikit-learn metrics work with NumPy arrays, not PyTorch tensors.\n",
    "y_pred_numpy = y_pred_test.numpy()\n",
    "\n",
    "# --- Calculate the metrics ---\n",
    "\n",
    "# 1. R-squared Score\n",
    "r2 = r2_score(y_test, y_pred_numpy)\n",
    "\n",
    "# 2. Mean Squared Error (using scikit-learn)\n",
    "mse = mean_squared_error(y_test, y_pred_numpy)\n",
    "\n",
    "# 3. Root Mean Squared Error (take the square root of MSE)\n",
    "rmse_sklearn = np.sqrt(mse)\n",
    "\n",
    "print(f\"\\nMetrics calculated with scikit-learn:\")\n",
    "print(f\"R-squared (R2 Score): {r2:.4f}\")\n",
    "print(f\"Root Mean Squared Error (RMSE): {rmse_sklearn:.4f}\")"
   ]
  },
  {
   "cell_type": "code",
   "execution_count": 73,
   "id": "44b74358",
   "metadata": {},
   "outputs": [
    {
     "name": "stdout",
     "output_type": "stream",
     "text": [
      "\n",
      "Model saved successfully!\n"
     ]
    }
   ],
   "source": [
    "# Save the model's state dictionary\n",
    "torch.save(model.state_dict(), 'weather_model.pth')\n",
    "print(\"\\nModel saved successfully!\")"
   ]
  },
  {
   "cell_type": "code",
   "execution_count": 74,
   "id": "0b37a8d8",
   "metadata": {},
   "outputs": [
    {
     "name": "stdout",
     "output_type": "stream",
     "text": [
      "\n",
      "New Data Input: [  20.   60. 1015.   80.]\n",
      "Predicted Power Output (PE): 451.4090\n"
     ]
    },
    {
     "name": "stderr",
     "output_type": "stream",
     "text": [
      "c:\\Users\\faisal\\AppData\\Local\\Programs\\Python\\Python313\\Lib\\site-packages\\sklearn\\utils\\validation.py:2739: UserWarning: X does not have valid feature names, but MinMaxScaler was fitted with feature names\n",
      "  warnings.warn(\n"
     ]
    }
   ],
   "source": [
    "import numpy as np\n",
    "\n",
    "# --- Load the saved model ---\n",
    "\n",
    "# First, you need to create an instance of the model architecture again\n",
    "# Make sure input_dim matches the one you trained with (which is 4)\n",
    "loaded_model = Weather(input_dim=4) \n",
    "\n",
    "# Load the saved weights into the model instance\n",
    "loaded_model.load_state_dict(torch.load('weather_model.pth'))\n",
    "\n",
    "# Set the model to evaluation mode\n",
    "loaded_model.eval()\n",
    "\n",
    "# --- Make a prediction on new, unseen data ---\n",
    "\n",
    "# Example new data point: [AT, V, AP, RH]\n",
    "new_data = np.array([[20.0, 60.0, 1015.0, 80.0]]) \n",
    "\n",
    "# IMPORTANT: You must scale the new data using the SAME scaler you used for training\n",
    "scaled_new_data = scaler.transform(new_data)\n",
    "\n",
    "# Convert the scaled data to a PyTorch tensor\n",
    "new_data_tensor = torch.tensor(scaled_new_data, dtype=torch.float32)\n",
    "\n",
    "# Use the loaded model to make a prediction\n",
    "with torch.no_grad():\n",
    "    predicted_pe = loaded_model(new_data_tensor)\n",
    "\n",
    "print(f\"\\nNew Data Input: {new_data[0]}\")\n",
    "print(f\"Predicted Power Output (PE): {predicted_pe.item():.4f}\")"
   ]
  },
  {
   "cell_type": "code",
   "execution_count": 75,
   "id": "d547f8ac",
   "metadata": {},
   "outputs": [
    {
     "name": "stdout",
     "output_type": "stream",
     "text": [
      "Scaler saved!\n"
     ]
    }
   ],
   "source": [
    "import joblib\n",
    "\n",
    "# Assuming 'scaler' is the MinMaxScaler object you already trained\n",
    "joblib.dump(scaler, 'scaler.pkl') \n",
    "print(\"Scaler saved!\")"
   ]
  }
 ],
 "metadata": {
  "kernelspec": {
   "display_name": "Python 3",
   "language": "python",
   "name": "python3"
  },
  "language_info": {
   "codemirror_mode": {
    "name": "ipython",
    "version": 3
   },
   "file_extension": ".py",
   "mimetype": "text/x-python",
   "name": "python",
   "nbconvert_exporter": "python",
   "pygments_lexer": "ipython3",
   "version": "3.13.2"
  }
 },
 "nbformat": 4,
 "nbformat_minor": 5
}
